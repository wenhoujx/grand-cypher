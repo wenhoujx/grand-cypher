{
 "cells": [
  {
   "cell_type": "code",
   "execution_count": 1,
   "id": "ae5b0797-232f-430f-9691-efb46ad43232",
   "metadata": {
    "tags": []
   },
   "outputs": [],
   "source": [
    "import grandcypher as dc \n",
    "import duckdb"
   ]
  },
  {
   "cell_type": "code",
   "execution_count": 2,
   "id": "45bdd768-ee80-4a77-b7ff-9923ab2c96aa",
   "metadata": {
    "tags": []
   },
   "outputs": [],
   "source": [
    "dc.add_csv_table(\"customer\", \"data/raw_customers.csv\")\n",
    "dc.model('Customer', 'customer' , {\n",
    "}\n",
    "    )"
   ]
  },
  {
   "cell_type": "code",
   "execution_count": 3,
   "id": "f84d067b-6f51-4a98-a834-318206d7b768",
   "metadata": {
    "tags": []
   },
   "outputs": [
    {
     "data": {
      "text/plain": [
       "[('Customer',)]"
      ]
     },
     "execution_count": 3,
     "metadata": {},
     "output_type": "execute_result"
    }
   ],
   "source": [
    "dc.show_tables()"
   ]
  },
  {
   "cell_type": "code",
   "execution_count": 4,
   "id": "42d38bf9-b2c8-4459-b8c2-2cb1bf06c2d6",
   "metadata": {
    "tags": []
   },
   "outputs": [
    {
     "data": {
      "text/plain": [
       "┌───────┬────────────┬───────────┬─────────┐\n",
       "│  id   │ first_name │ last_name │ company │\n",
       "│ int64 │  varchar   │  varchar  │ varchar │\n",
       "├───────┼────────────┼───────────┼─────────┤\n",
       "│     1 │ michael    │ p.        │ google  │\n",
       "└───────┴────────────┴───────────┴─────────┘"
      ]
     },
     "execution_count": 4,
     "metadata": {},
     "output_type": "execute_result"
    }
   ],
   "source": [
    "duckdb.sql('select * from Customer limit 1;' )"
   ]
  },
  {
   "cell_type": "code",
   "execution_count": 5,
   "id": "074a9a8d-6a4f-4d11-8a86-10329b649066",
   "metadata": {
    "tags": []
   },
   "outputs": [
    {
     "data": {
      "text/plain": [
       "[('Customer',)]"
      ]
     },
     "execution_count": 5,
     "metadata": {},
     "output_type": "execute_result"
    }
   ],
   "source": [
    "duckdb.sql('show tables;').fetchall() "
   ]
  },
  {
   "cell_type": "code",
   "execution_count": null,
   "id": "3322f2a6-308d-42cd-bcb8-429c900637e4",
   "metadata": {},
   "outputs": [],
   "source": []
  }
 ],
 "metadata": {
  "kernelspec": {
   "display_name": "grand-cypher",
   "language": "python",
   "name": "grand-cypher"
  },
  "language_info": {
   "codemirror_mode": {
    "name": "ipython",
    "version": 3
   },
   "file_extension": ".py",
   "mimetype": "text/x-python",
   "name": "python",
   "nbconvert_exporter": "python",
   "pygments_lexer": "ipython3",
   "version": "3.9.11"
  }
 },
 "nbformat": 4,
 "nbformat_minor": 5
}
